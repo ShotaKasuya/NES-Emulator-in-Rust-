{
 "cells": [
  {
   "cell_type": "markdown",
   "metadata": {},
   "source": [
    "# Operation Code 取得用テスト"
   ]
  },
  {
   "cell_type": "markdown",
   "metadata": {},
   "source": [
    "### Import解決"
   ]
  },
  {
   "cell_type": "code",
   "execution_count": null,
   "metadata": {},
   "outputs": [],
   "source": [
    "from lxml import html\n",
    "import requests\n",
    "from bs4 import BeautifulSoup\n",
    "from pydantic import BaseModel\n",
    "import pandas as pd\n"
   ]
  },
  {
   "cell_type": "code",
   "execution_count": null,
   "metadata": {},
   "outputs": [],
   "source": [
    "\n",
    "url = \"https://www.nesdev.org/obelisk-6502-guide/reference.html#INX\"\n",
    "\n",
    "r = requests.get(url=url)\n",
    "soup = BeautifulSoup(r.content, \"html.parser\")\n",
    "lxml_data = html.fromstring(str(soup))\n",
    "\n",
    "with open(\"Reference.html\", \"w\", encoding='utf-8') as f:\n",
    "    f.write(str(soup))\n",
    "\n",
    "class AddressingMode(BaseModel):\n",
    "    code: str\n",
    "    bytes: int\n",
    "    cycles: int\n",
    "    addressingmode: str\n",
    "\n",
    "class OpCode(BaseModel):\n",
    "    name: str\n",
    "    addr: list[AddressingMode]\n"
   ]
  },
  {
   "cell_type": "markdown",
   "metadata": {},
   "source": [
    "### name"
   ]
  },
  {
   "cell_type": "code",
   "execution_count": null,
   "metadata": {},
   "outputs": [],
   "source": [
    "opsHeaders = lxml_data.xpath(\"//h3/a\")\n",
    "# for opsHead in opsHeaders:\n",
    "#     print(opsHead.attrib.get('name'))\n",
    "\n",
    "opsNames = [ opsHead.attrib.get('name') for opsHead in opsHeaders ]\n",
    "print(opsNames)\n"
   ]
  },
  {
   "cell_type": "markdown",
   "metadata": {},
   "source": [
    "### Others"
   ]
  },
  {
   "cell_type": "code",
   "execution_count": null,
   "metadata": {},
   "outputs": [],
   "source": [
    "dfs = pd.read_html(url)\n",
    "print(len(dfs))\n",
    "print(dfs[2])\n",
    "\n",
    "# いらない表を削除\n",
    "del dfs[0]\n",
    "del dfs[::2]\n",
    "\n",
    "# いらない行を削除\n",
    "for i in range(len(dfs)):\n",
    "    dfs[i] = dfs[i].drop(dfs[i].index[[0]])\n",
    "\n",
    "# いらない列を削除\n",
    "# for i in range(len(dfs)):\n",
    "#     dfs[i] = dfs[i].drop(columns=dfs[i].columns[[0]])\n",
    "\n",
    "# CSV用に結合\n",
    "df = pd.concat([dfs[0], dfs[1]])\n",
    "for i in range(2,len(dfs)):\n",
    "    df = pd.concat([df, dfs[i]])\n",
    "\n",
    "df.to_csv(\"data.csv\", index=False, header=False)\n"
   ]
  },
  {
   "cell_type": "markdown",
   "metadata": {},
   "source": [
    "## 結合"
   ]
  },
  {
   "cell_type": "code",
   "execution_count": null,
   "metadata": {},
   "outputs": [],
   "source": [
    "dfs = pd.read_html(url)\n",
    "print(len(dfs))\n",
    "print(dfs[2])\n",
    "\n",
    "# いらない表を削除\n",
    "del dfs[0]\n",
    "del dfs[::2]\n",
    "\n",
    "# いらない行を削除\n",
    "for i in range(len(dfs)):\n",
    "    dfs[i] = dfs[i].drop(dfs[i].index[[0]])\n",
    "\n",
    "for i in range(len(opsNames)):\n",
    "    dfs[i].insert(0, -1, opsNames[i])\n",
    "\n",
    "print(dfs[0])\n",
    "# CSV用に結合\n",
    "df = pd.concat([dfs[0], dfs[1]])\n",
    "for i in range(2,len(dfs)):\n",
    "    df = pd.concat([df, dfs[i]])\n",
    "\n",
    "df.to_csv(\"data.csv\", index=False, header=False)\n"
   ]
  },
  {
   "cell_type": "markdown",
   "metadata": {},
   "source": [
    "### 不十分なデータ加工について置換で対応する\n",
    "1. $ -> 0x\n",
    "2. ,(\\d) \\((.+)\\)\\n -> ,$1 /* ($2) */\\n\n",
    "3. Zero[ ]+Page -> ZeroPage\n",
    "4. ZeroPage,([XY]) -> ZeroPage_$1\n",
    "5. \"(.+),([XY])\" -> $1_$2\n",
    "6. (Indirect,X) -> Indirect_X\n",
    "7. (Indirect)_Y -> Indirect_Y"
   ]
  }
 ],
 "metadata": {
  "kernelspec": {
   "display_name": "Python 3",
   "language": "python",
   "name": "python3"
  },
  "language_info": {
   "codemirror_mode": {
    "name": "ipython",
    "version": 3
   },
   "file_extension": ".py",
   "mimetype": "text/x-python",
   "name": "python",
   "nbconvert_exporter": "python",
   "pygments_lexer": "ipython3",
   "version": "3.11.3"
  }
 },
 "nbformat": 4,
 "nbformat_minor": 2
}
